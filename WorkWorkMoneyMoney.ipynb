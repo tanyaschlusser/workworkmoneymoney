{
 "cells": [
  {
   "cell_type": "markdown",
   "metadata": {},
   "source": [
    "#[Work work, money money][repeatyoutube]\n",
    "Combine job board and BLS data to find trends in job / industry growth in Chicago and elsewhere.\n",
    "\n",
    "##Data:\n",
    "- BLS: http://www.bls.gov/help/hlpforma.htm,\n",
    "    + Occupational Employment Statistics http://download.bls.gov/pub/time.series/oe/\n",
    "    + National Compensation Survey http://download.bls.gov/pub/time.series/nc/\n",
    "- Census:\n",
    "    + county shapefiles https://www.census.gov/geo/maps-data/data/tiger-cart-boundary.html\n",
    "    + or, better, Mike Bostock's [US-atlas project] [usatlas] (census shapefiles ⇒ GeoJSON)\n",
    "- [JobsAggregator][ja]: (results from all 5 of [Indeed][indeed], [SimplyHired][simply], [CareerBuilder][cb], [Monster][monster], and [CareerJet][cj]): \n",
    "\n",
    "##Technology:\n",
    "- Apache Spark on an Amazon EC2 (Elastic Cloud 2) cluster; instructions below\n",
    "- input data stored in Amazon S3 buckets, output written to HDFS permanent storage\n",
    "- Images rendered in D3 via a private [Lightning][lightning] server\n",
    "\n",
    "[bls_api]: http://www.bls.gov/developers/api_python.htm\n",
    "[cb]: http://developer.careerbuilder.com/\n",
    "[cj]: http://www.careerjet.com/partners/\n",
    "[indeed]: http://www.indeed.com/publisher\n",
    "[ja]: http://www.jobsaggregator.com/US/\n",
    "[lightning]: http://lightning-viz.org/documentation/\n",
    "[monster]: http://partner.monster.com/developers\n",
    "[repeatyoutube]: http://listenonrepeat.com/watch/?v=SvpsoEOJ0_E\n",
    "[simply]: https://simply-partner.com/partners-signup\n",
    "[usatlas]: https://github.com/mbostock/us-atlas"
   ]
  },
  {
   "cell_type": "code",
   "execution_count": null,
   "metadata": {
    "collapsed": true
   },
   "outputs": [],
   "source": []
  }
 ],
 "metadata": {
  "kernelspec": {
   "display_name": "Python 2",
   "language": "python",
   "name": "python2"
  },
  "language_info": {
   "codemirror_mode": {
    "name": "ipython",
    "version": 2
   },
   "file_extension": ".py",
   "mimetype": "text/x-python",
   "name": "python",
   "nbconvert_exporter": "python",
   "pygments_lexer": "ipython2",
   "version": "2.7.5"
  }
 },
 "nbformat": 4,
 "nbformat_minor": 0
}
